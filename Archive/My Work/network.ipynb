{
 "cells": [
  {
   "cell_type": "code",
   "execution_count": 1,
   "metadata": {},
   "outputs": [],
   "source": [
    "import pandas as pd "
   ]
  },
  {
   "cell_type": "code",
   "execution_count": 2,
   "metadata": {},
   "outputs": [
    {
     "data": {
      "text/plain": [
       "array(['CBS', 'NBC', 'HBO', 'Fox', 'USA', 'FX', 'Showtime', 'Netflix',\n",
       "       'Amazon', 'ABC', 'Pop TV', 'Hulu', 'Apple TV+', 'Comedy Central',\n",
       "       'HBO Max', 'Prime Video', 'AMC', 'DirecTV', 'PBS', 'TNT', 'A&E',\n",
       "       'BBC America', 'IFC', 'TV Land', 'Disney+', 'Lifetime', 'Pop'],\n",
       "      dtype=object)"
      ]
     },
     "execution_count": 2,
     "metadata": {},
     "output_type": "execute_result"
    }
   ],
   "source": [
    "lead_actor_actress_df = pd.read_csv('Resources/Lead_actor_actress_nominees.csv')\n",
    "supporting_actor_actress_nominees_df = pd.read_csv('Resources/Supporting_actor_actress_nominees.csv')\n",
    "series_nominees_df = pd.read_csv('Resources/Series_nominees.csv')\n",
    "winners_df = pd.read_csv('Resources/Winners_cleaned_2010-2022.csv')\n",
    "\n",
    "network = pd.Series(lead_actor_actress_df['Network'])\n",
    "network = pd.concat([network\n",
    "                    , pd.Series(lead_actor_actress_df['Network'])\n",
    "                    , pd.Series(supporting_actor_actress_nominees_df['Network'])\n",
    "                    , pd.Series(series_nominees_df['Network'])\n",
    "                    , pd.Series(winners_df['Comedy (Network)'])\n",
    "                    , pd.Series(winners_df['Drama (Network)'])]\n",
    "                    , axis=0, ignore_index=True)\n",
    "                \n",
    "\n",
    "network = network.unique()\n",
    "network"
   ]
  },
  {
   "cell_type": "code",
   "execution_count": 3,
   "metadata": {},
   "outputs": [],
   "source": [
    "network_df = pd.DataFrame({'Network':network}) \n",
    "\n",
    "network_df.index = network_df.index + 1\n",
    "\n",
    "network_df.to_csv('output/network.csv', index_label='network_id')"
   ]
  }
 ],
 "metadata": {
  "kernelspec": {
   "display_name": "PythonData",
   "language": "python",
   "name": "python3"
  },
  "language_info": {
   "codemirror_mode": {
    "name": "ipython",
    "version": 3
   },
   "file_extension": ".py",
   "mimetype": "text/x-python",
   "name": "python",
   "nbconvert_exporter": "python",
   "pygments_lexer": "ipython3",
   "version": "3.10.9"
  },
  "orig_nbformat": 4
 },
 "nbformat": 4,
 "nbformat_minor": 2
}
