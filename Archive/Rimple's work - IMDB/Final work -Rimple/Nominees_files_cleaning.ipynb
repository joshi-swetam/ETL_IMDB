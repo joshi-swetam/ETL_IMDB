{
 "cells": [
  {
   "cell_type": "markdown",
   "id": "da602be6",
   "metadata": {},
   "source": [
    "# Cleaning and Combining nominees files\n",
    "## clean individual files"
   ]
  },
  {
   "cell_type": "code",
   "execution_count": 64,
   "id": "b1fc47c8",
   "metadata": {},
   "outputs": [],
   "source": [
    "#import the dependencies\n",
    "import pandas as pd\n",
    "import os\n",
    "import warnings\n",
    "warnings.filterwarnings('ignore')"
   ]
  },
  {
   "cell_type": "code",
   "execution_count": 65,
   "id": "8b71ec51",
   "metadata": {},
   "outputs": [],
   "source": [
    "#define the filepaths for loop purposes\n",
    "file1 = \"Resources/Resources_nominiees and winners/Nominated_Actor_Comedy_2010-2022.csv\"\n",
    "file2 = \"Resources/Resources_nominiees and winners/Nominated_Actors_Drama_2010-2022.csv\"\n",
    "file3 = \"Resources/Resources_nominiees and winners/Nominated_Actress_Comedy_2010-2022.csv\"\n",
    "file4 = \"Resources/Resources_nominiees and winners/Nominated_Actress_Drama_2010-2022.csv\"\n",
    "file5 = \"Resources/Resources_nominiees and winners/Nominated_Best_supporting_Actor_Comedy_2010-2022.csv\"\n",
    "file6 = \"Resources/Resources_nominiees and winners/Nominated_Best_supporting_Actress_Comedy_2010-2022.csv\"\n",
    "file7 = \"Resources/Resources_nominiees and winners/Nominated_Best_supporting_Actor_Drama_2010-2022.csv\"\n",
    "file8 = \"Resources/Resources_nominiees and winners/Nominated_Best_supporting_Actress_Drama_2010-2022.csv\"\n",
    "file9 = \"Resources/Resources_nominiees and winners/Nominated_Series_Comedy_2010-2022.csv\"\n",
    "file10 = \"Resources/Resources_nominiees and winners/Nominated_Series_Drama_2010-2022.csv\"\n"
   ]
  },
  {
   "cell_type": "code",
   "execution_count": 66,
   "id": "09b966a5",
   "metadata": {},
   "outputs": [
    {
     "name": "stdout",
     "output_type": "stream",
     "text": [
      "Resources/Resources_nominiees and winners/Nominated_Best_supporting_Actress_Comedy_2010-2022.csv\n"
     ]
    }
   ],
   "source": [
    "print(file6)"
   ]
  },
  {
   "cell_type": "code",
   "execution_count": 67,
   "id": "5fad1955",
   "metadata": {},
   "outputs": [],
   "source": [
    "# create a list\n",
    "path_list = [file1 ,file2, file3, file4, file5 ,file6, file7, file8, file9 , file10]"
   ]
  },
  {
   "cell_type": "code",
   "execution_count": 68,
   "id": "d62d171f",
   "metadata": {},
   "outputs": [],
   "source": [
    "#create a function\n",
    "def cleaning(file):\n",
    "    df1 = pd.read_csv(file)\n",
    "    df = df1.dropna()\n",
    "    df[\"Year\"] = df[\"Year\"].str.split('(').str[0]\n",
    "    df = df.rename(columns = {\"Program\" : \"Titles\"})\n",
    "    del df['Unnamed: 0']\n",
    "    return(df)"
   ]
  },
  {
   "cell_type": "code",
   "execution_count": 69,
   "id": "3b81dad7",
   "metadata": {},
   "outputs": [],
   "source": [
    "# loop and clean all the files\n",
    "for each in path_list:\n",
    "    df = cleaning(each)\n",
    "    df['Category'] = each.split('/')[2].split('_')[2]\n",
    "    new_name = each.split('/')[2]\n",
    "    #print(df['Category'])\n",
    "    os.makedirs('Resources', exist_ok=True)  \n",
    "    df.to_csv(f'Resources/{new_name}', index = False) \n",
    "    \n",
    "    "
   ]
  },
  {
   "cell_type": "markdown",
   "id": "2e7daea5",
   "metadata": {},
   "source": [
    "## Combining data for lead actor/actress\n"
   ]
  },
  {
   "cell_type": "code",
   "execution_count": 70,
   "id": "63363645",
   "metadata": {},
   "outputs": [],
   "source": [
    "clean_file1 = \"Resources/Nominated_Actor_Comedy_2010-2022.csv\"\n",
    "clean_file2 = \"Resources/Nominated_Actor_Drama_2010-2022.csv\"\n",
    "clean_file3 = \"Resources/Nominated_Actress_Comedy_2010-2022.csv\"\n",
    "clean_file4 = \"Resources/Nominated_Actress_Drama_2010-2022.csv\"\n"
   ]
  },
  {
   "cell_type": "code",
   "execution_count": 71,
   "id": "12d289e7",
   "metadata": {},
   "outputs": [],
   "source": [
    "Comedy_actor_df = pd.read_csv(clean_file1)\n",
    "Drama_actor_df = pd.read_csv(clean_file2)\n",
    "Comedy_actress_df = pd.read_csv(clean_file3)\n",
    "Drama_actress_df = pd.read_csv(clean_file4)\n"
   ]
  },
  {
   "cell_type": "code",
   "execution_count": 72,
   "id": "df5c5970",
   "metadata": {},
   "outputs": [],
   "source": [
    "Comedy_actor_df = Comedy_actor_df.rename(columns = {'Actor':'Actor/Actress'})\n",
    "Comedy_actress_df = Comedy_actress_df.rename(columns = {'Actress':'Actor/Actress'})\n",
    "Drama_actor_df = Drama_actor_df.rename(columns = {'Actor':'Actor/Actress'})\n",
    "Drama_actress_df = Drama_actress_df.rename(columns = {'Actress':'Actor/Actress','Episode Submission':'Episode Submissions' })\n",
    "Comedy_actress_df = Comedy_actress_df.rename(columns = {'Episode Submission':'Episode Submissions'})\n",
    "\n"
   ]
  },
  {
   "cell_type": "code",
   "execution_count": 73,
   "id": "e6f1345e",
   "metadata": {},
   "outputs": [],
   "source": [
    "final_df = pd.concat([Comedy_actor_df, Comedy_actress_df , Drama_actor_df,Drama_actress_df])"
   ]
  },
  {
   "cell_type": "code",
   "execution_count": 74,
   "id": "ba1ec5d2",
   "metadata": {},
   "outputs": [
    {
     "data": {
      "text/plain": [
       "Index(['Year', 'Actor/Actress', 'Role', 'Titles', 'Episode Submissions',\n",
       "       'Network', 'Category', 'Unnamed: 0'],\n",
       "      dtype='object')"
      ]
     },
     "execution_count": 74,
     "metadata": {},
     "output_type": "execute_result"
    }
   ],
   "source": [
    "final_df.keys()"
   ]
  },
  {
   "cell_type": "code",
   "execution_count": 75,
   "id": "d3d000f5",
   "metadata": {},
   "outputs": [],
   "source": [
    "del final_df[\"Unnamed: 0\"]"
   ]
  },
  {
   "cell_type": "code",
   "execution_count": 76,
   "id": "c09efff9",
   "metadata": {},
   "outputs": [],
   "source": [
    "os.makedirs('Resources', exist_ok=True)  \n",
    "final_df.to_csv(f'Resources/Lead_actor_actress_nominees.csv', index = False) "
   ]
  },
  {
   "cell_type": "markdown",
   "id": "7507f53b",
   "metadata": {},
   "source": [
    "# combining data for supporting leads table\n"
   ]
  },
  {
   "cell_type": "code",
   "execution_count": 79,
   "id": "123dc1b5",
   "metadata": {},
   "outputs": [],
   "source": [
    "c_file1 = \"Resources/Nominated_Best_supporting_Actor_Comedy_2010-2022.csv\"\n",
    "c_file2 = \"Resources/Nominated_Best_supporting_Actor_Drama_2010-2022.csv\"\n",
    "c_file3 = \"Resources/Nominated_Best_supporting_Actress_Comedy_2010-2022.csv\"\n",
    "c_file4 = \"Resources/Nominated_Best_supporting_Actress_Drama_2010-2022.csv\"\n"
   ]
  },
  {
   "cell_type": "code",
   "execution_count": 82,
   "id": "82d8b80f",
   "metadata": {},
   "outputs": [],
   "source": [
    "C_actor_df = pd.read_csv(c_file1)\n",
    "D_actor_df = pd.read_csv(c_file2)\n",
    "C_actress_df = pd.read_csv(c_file3)\n",
    "D_actress_df = pd.read_csv(c_file4)\n"
   ]
  },
  {
   "cell_type": "code",
   "execution_count": 83,
   "id": "1d0b0a7b",
   "metadata": {},
   "outputs": [],
   "source": [
    "C_actor_df = C_actor_df.rename(columns = {'Actor':'Actor/Actress'})\n",
    "C_actress_df = C_actress_df.rename(columns = {'Actress':'Actor/Actress'})\n",
    "D_actor_df = D_actor_df.rename(columns = {'Actor':'Actor/Actress'})\n",
    "D_actress_df = D_actress_df.rename(columns = {'Actress':'Actor/Actress','Episode Submission':'Episode Submissions' })\n",
    "C_actress_df = C_actress_df.rename(columns = {'Episode Submission':'Episode Submissions'})\n",
    "\n"
   ]
  },
  {
   "cell_type": "code",
   "execution_count": 85,
   "id": "565c3901",
   "metadata": {},
   "outputs": [],
   "source": [
    "final_supporting_df = pd.concat([C_actor_df, C_actress_df , D_actor_df,D_actress_df])"
   ]
  },
  {
   "cell_type": "code",
   "execution_count": 87,
   "id": "4b2f3e26",
   "metadata": {},
   "outputs": [
    {
     "data": {
      "text/plain": [
       "Index(['Year', 'Actor/Actress', 'Role', 'Titles', 'Episode Submissions',\n",
       "       'Network', 'Category'],\n",
       "      dtype='object')"
      ]
     },
     "execution_count": 87,
     "metadata": {},
     "output_type": "execute_result"
    }
   ],
   "source": [
    "final_supporting_df.keys()"
   ]
  },
  {
   "cell_type": "code",
   "execution_count": 88,
   "id": "925c9840",
   "metadata": {},
   "outputs": [],
   "source": [
    "os.makedirs('Resources', exist_ok=True)  \n",
    "final_supporting_df.to_csv(f'Resources/Supporting_actor_actress_nominees.csv', index = False) "
   ]
  },
  {
   "cell_type": "code",
   "execution_count": 89,
   "id": "2452c050",
   "metadata": {},
   "outputs": [
    {
     "data": {
      "text/html": [
       "<div>\n",
       "<style scoped>\n",
       "    .dataframe tbody tr th:only-of-type {\n",
       "        vertical-align: middle;\n",
       "    }\n",
       "\n",
       "    .dataframe tbody tr th {\n",
       "        vertical-align: top;\n",
       "    }\n",
       "\n",
       "    .dataframe thead th {\n",
       "        text-align: right;\n",
       "    }\n",
       "</style>\n",
       "<table border=\"1\" class=\"dataframe\">\n",
       "  <thead>\n",
       "    <tr style=\"text-align: right;\">\n",
       "      <th></th>\n",
       "      <th>Year</th>\n",
       "      <th>Actor/Actress</th>\n",
       "      <th>Role</th>\n",
       "      <th>Titles</th>\n",
       "      <th>Episode Submissions</th>\n",
       "      <th>Network</th>\n",
       "      <th>Category</th>\n",
       "    </tr>\n",
       "  </thead>\n",
       "  <tbody>\n",
       "    <tr>\n",
       "      <th>0</th>\n",
       "      <td>2010</td>\n",
       "      <td>Eric Stonestreet</td>\n",
       "      <td>Cameron Tucker</td>\n",
       "      <td>Modern Family</td>\n",
       "      <td>\"Fizbo\"</td>\n",
       "      <td>ABC</td>\n",
       "      <td>Comedy</td>\n",
       "    </tr>\n",
       "    <tr>\n",
       "      <th>1</th>\n",
       "      <td>2010</td>\n",
       "      <td>Ty Burrell</td>\n",
       "      <td>Phil Dunphy</td>\n",
       "      <td>Modern Family</td>\n",
       "      <td>\"Up All Night\"</td>\n",
       "      <td>ABC</td>\n",
       "      <td>Comedy</td>\n",
       "    </tr>\n",
       "    <tr>\n",
       "      <th>2</th>\n",
       "      <td>2010</td>\n",
       "      <td>Chris Colfer</td>\n",
       "      <td>Kurt Hummel</td>\n",
       "      <td>Glee</td>\n",
       "      <td>\"Laryngitis\"</td>\n",
       "      <td>Fox</td>\n",
       "      <td>Comedy</td>\n",
       "    </tr>\n",
       "    <tr>\n",
       "      <th>3</th>\n",
       "      <td>2010</td>\n",
       "      <td>Jon Cryer</td>\n",
       "      <td>Alan Harper</td>\n",
       "      <td>Two and a Half Men</td>\n",
       "      <td>\"Captain Terry's Spray-On Hair\"</td>\n",
       "      <td>CBS</td>\n",
       "      <td>Comedy</td>\n",
       "    </tr>\n",
       "    <tr>\n",
       "      <th>4</th>\n",
       "      <td>2010</td>\n",
       "      <td>Jesse Tyler Ferguson</td>\n",
       "      <td>Mitchell Pritchett</td>\n",
       "      <td>Modern Family</td>\n",
       "      <td>\"Family Portrait\"</td>\n",
       "      <td>ABC</td>\n",
       "      <td>Comedy</td>\n",
       "    </tr>\n",
       "    <tr>\n",
       "      <th>...</th>\n",
       "      <td>...</td>\n",
       "      <td>...</td>\n",
       "      <td>...</td>\n",
       "      <td>...</td>\n",
       "      <td>...</td>\n",
       "      <td>...</td>\n",
       "      <td>...</td>\n",
       "    </tr>\n",
       "    <tr>\n",
       "      <th>80</th>\n",
       "      <td>2022</td>\n",
       "      <td>Christina Ricci</td>\n",
       "      <td>Misty Quigley</td>\n",
       "      <td>Yellowjackets</td>\n",
       "      <td>\"Sic Transit Gloria Mundi\"</td>\n",
       "      <td>Showtime</td>\n",
       "      <td>Drama</td>\n",
       "    </tr>\n",
       "    <tr>\n",
       "      <th>81</th>\n",
       "      <td>2022</td>\n",
       "      <td>Rhea Seehorn</td>\n",
       "      <td>Kim Wexler</td>\n",
       "      <td>Better Call Saul</td>\n",
       "      <td>\"Hit and Run\"</td>\n",
       "      <td>AMC</td>\n",
       "      <td>Drama</td>\n",
       "    </tr>\n",
       "    <tr>\n",
       "      <th>82</th>\n",
       "      <td>2022</td>\n",
       "      <td>J. Smith-Cameron</td>\n",
       "      <td>Gerri Kellman</td>\n",
       "      <td>Succession</td>\n",
       "      <td>\"The Disruption\"</td>\n",
       "      <td>HBO</td>\n",
       "      <td>Drama</td>\n",
       "    </tr>\n",
       "    <tr>\n",
       "      <th>83</th>\n",
       "      <td>2022</td>\n",
       "      <td>Sarah Snook</td>\n",
       "      <td>Siobhan \"Shiv\" Roy</td>\n",
       "      <td>Succession</td>\n",
       "      <td>\"Chiantishire\"</td>\n",
       "      <td>HBO</td>\n",
       "      <td>Drama</td>\n",
       "    </tr>\n",
       "    <tr>\n",
       "      <th>84</th>\n",
       "      <td>2022</td>\n",
       "      <td>Sydney Sweeney</td>\n",
       "      <td>Cassandra \"Cassie\" Howard</td>\n",
       "      <td>Euphoria</td>\n",
       "      <td>\"Ruminations: Big and Little Bullys\"</td>\n",
       "      <td>HBO</td>\n",
       "      <td>Drama</td>\n",
       "    </tr>\n",
       "  </tbody>\n",
       "</table>\n",
       "<p>347 rows × 7 columns</p>\n",
       "</div>"
      ],
      "text/plain": [
       "    Year         Actor/Actress                       Role              Titles  \\\n",
       "0   2010      Eric Stonestreet             Cameron Tucker       Modern Family   \n",
       "1   2010            Ty Burrell                Phil Dunphy       Modern Family   \n",
       "2   2010          Chris Colfer                Kurt Hummel                Glee   \n",
       "3   2010             Jon Cryer                Alan Harper  Two and a Half Men   \n",
       "4   2010  Jesse Tyler Ferguson         Mitchell Pritchett       Modern Family   \n",
       "..   ...                   ...                        ...                 ...   \n",
       "80  2022       Christina Ricci              Misty Quigley       Yellowjackets   \n",
       "81  2022          Rhea Seehorn                 Kim Wexler    Better Call Saul   \n",
       "82  2022      J. Smith-Cameron              Gerri Kellman          Succession   \n",
       "83  2022           Sarah Snook         Siobhan \"Shiv\" Roy          Succession   \n",
       "84  2022        Sydney Sweeney  Cassandra \"Cassie\" Howard            Euphoria   \n",
       "\n",
       "                     Episode Submissions   Network Category  \n",
       "0                                \"Fizbo\"       ABC   Comedy  \n",
       "1                         \"Up All Night\"       ABC   Comedy  \n",
       "2                           \"Laryngitis\"       Fox   Comedy  \n",
       "3        \"Captain Terry's Spray-On Hair\"       CBS   Comedy  \n",
       "4                      \"Family Portrait\"       ABC   Comedy  \n",
       "..                                   ...       ...      ...  \n",
       "80            \"Sic Transit Gloria Mundi\"  Showtime    Drama  \n",
       "81                         \"Hit and Run\"       AMC    Drama  \n",
       "82                      \"The Disruption\"       HBO    Drama  \n",
       "83                        \"Chiantishire\"       HBO    Drama  \n",
       "84  \"Ruminations: Big and Little Bullys\"       HBO    Drama  \n",
       "\n",
       "[347 rows x 7 columns]"
      ]
     },
     "execution_count": 89,
     "metadata": {},
     "output_type": "execute_result"
    }
   ],
   "source": [
    "final_supporting_df"
   ]
  },
  {
   "cell_type": "code",
   "execution_count": 99,
   "id": "f296f4b0",
   "metadata": {},
   "outputs": [],
   "source": [
    "Comedy_data = \"Resources/Nominated_Series_Comedy_2010-2022.csv\"\n",
    "Drama_data = \"Resources/Nominated_Series_Drama_2010-2022.csv\""
   ]
  },
  {
   "cell_type": "code",
   "execution_count": 101,
   "id": "49027989",
   "metadata": {},
   "outputs": [],
   "source": [
    "Comedy_df = pd.read_csv(Comedy_data)\n",
    "Drama_df = pd.read_csv(Drama_data)\n",
    "tot_df = pd.concat([Comedy_df,Drama_df])\n",
    "tot_df['Titles'] = tot_df['Titles'].str.split('(').str[0]"
   ]
  },
  {
   "cell_type": "code",
   "execution_count": 102,
   "id": "9db9d02c",
   "metadata": {},
   "outputs": [],
   "source": [
    "os.makedirs('Resources', exist_ok=True)  \n",
    "tot_df.to_csv(f'Resources/Series_nominees.csv', index = False) "
   ]
  },
  {
   "cell_type": "code",
   "execution_count": 103,
   "id": "35f7dc73",
   "metadata": {},
   "outputs": [
    {
     "data": {
      "text/html": [
       "<div>\n",
       "<style scoped>\n",
       "    .dataframe tbody tr th:only-of-type {\n",
       "        vertical-align: middle;\n",
       "    }\n",
       "\n",
       "    .dataframe tbody tr th {\n",
       "        vertical-align: top;\n",
       "    }\n",
       "\n",
       "    .dataframe thead th {\n",
       "        text-align: right;\n",
       "    }\n",
       "</style>\n",
       "<table border=\"1\" class=\"dataframe\">\n",
       "  <thead>\n",
       "    <tr style=\"text-align: right;\">\n",
       "      <th></th>\n",
       "      <th>Year</th>\n",
       "      <th>Titles</th>\n",
       "      <th>Producers</th>\n",
       "      <th>Network</th>\n",
       "      <th>Category</th>\n",
       "    </tr>\n",
       "  </thead>\n",
       "  <tbody>\n",
       "    <tr>\n",
       "      <th>0</th>\n",
       "      <td>2010</td>\n",
       "      <td>Modern Family</td>\n",
       "      <td>Steven Levitan and Christopher Lloyd, executiv...</td>\n",
       "      <td>ABC</td>\n",
       "      <td>Comedy</td>\n",
       "    </tr>\n",
       "    <tr>\n",
       "      <th>1</th>\n",
       "      <td>2010</td>\n",
       "      <td>Curb Your Enthusiasm</td>\n",
       "      <td>Larry David, Jeff Garlin, Gavin Polone, Alec B...</td>\n",
       "      <td>HBO</td>\n",
       "      <td>Comedy</td>\n",
       "    </tr>\n",
       "    <tr>\n",
       "      <th>2</th>\n",
       "      <td>2010</td>\n",
       "      <td>Glee</td>\n",
       "      <td>Ryan Murphy, Brad Falchuk and Dante Di Loreto,...</td>\n",
       "      <td>Fox</td>\n",
       "      <td>Comedy</td>\n",
       "    </tr>\n",
       "    <tr>\n",
       "      <th>3</th>\n",
       "      <td>2010</td>\n",
       "      <td>Nurse Jackie</td>\n",
       "      <td>Linda Wallem, Liz Brixius, John Melfi, Caryn M...</td>\n",
       "      <td>Showtime</td>\n",
       "      <td>Comedy</td>\n",
       "    </tr>\n",
       "    <tr>\n",
       "      <th>4</th>\n",
       "      <td>2010</td>\n",
       "      <td>The Office</td>\n",
       "      <td>Greg Daniels, Ben Silverman, Ricky Gervais, St...</td>\n",
       "      <td>NBC</td>\n",
       "      <td>Comedy</td>\n",
       "    </tr>\n",
       "    <tr>\n",
       "      <th>...</th>\n",
       "      <td>...</td>\n",
       "      <td>...</td>\n",
       "      <td>...</td>\n",
       "      <td>...</td>\n",
       "      <td>...</td>\n",
       "    </tr>\n",
       "    <tr>\n",
       "      <th>85</th>\n",
       "      <td>2022</td>\n",
       "      <td>Ozark</td>\n",
       "      <td>Jason Bateman, Chris Mundy, Bill Dubuque, Mark...</td>\n",
       "      <td>Netflix</td>\n",
       "      <td>Drama</td>\n",
       "    </tr>\n",
       "    <tr>\n",
       "      <th>86</th>\n",
       "      <td>2022</td>\n",
       "      <td>Severance</td>\n",
       "      <td>Ben Stiller, Nicholas Weinstock, Jackie Cohn, ...</td>\n",
       "      <td>Apple TV+</td>\n",
       "      <td>Drama</td>\n",
       "    </tr>\n",
       "    <tr>\n",
       "      <th>87</th>\n",
       "      <td>2022</td>\n",
       "      <td>Squid Game</td>\n",
       "      <td>Kim Ji-yeon and Hwang Dong-hyuk, executive pro...</td>\n",
       "      <td>Netflix</td>\n",
       "      <td>Drama</td>\n",
       "    </tr>\n",
       "    <tr>\n",
       "      <th>88</th>\n",
       "      <td>2022</td>\n",
       "      <td>Stranger Things</td>\n",
       "      <td>The Duffer Brothers, Dan Cohen, Shawn Levy, Cu...</td>\n",
       "      <td>Netflix</td>\n",
       "      <td>Drama</td>\n",
       "    </tr>\n",
       "    <tr>\n",
       "      <th>89</th>\n",
       "      <td>2022</td>\n",
       "      <td>Yellowjackets</td>\n",
       "      <td>Jonathan Lisco, Ashley Lyle and Bart Nickerson...</td>\n",
       "      <td>Showtime</td>\n",
       "      <td>Drama</td>\n",
       "    </tr>\n",
       "  </tbody>\n",
       "</table>\n",
       "<p>180 rows × 5 columns</p>\n",
       "</div>"
      ],
      "text/plain": [
       "    Year                 Titles  \\\n",
       "0   2010         Modern Family    \n",
       "1   2010  Curb Your Enthusiasm    \n",
       "2   2010                  Glee    \n",
       "3   2010          Nurse Jackie    \n",
       "4   2010            The Office    \n",
       "..   ...                    ...   \n",
       "85  2022                 Ozark    \n",
       "86  2022             Severance    \n",
       "87  2022            Squid Game    \n",
       "88  2022       Stranger Things    \n",
       "89  2022         Yellowjackets    \n",
       "\n",
       "                                            Producers    Network Category  \n",
       "0   Steven Levitan and Christopher Lloyd, executiv...        ABC   Comedy  \n",
       "1   Larry David, Jeff Garlin, Gavin Polone, Alec B...        HBO   Comedy  \n",
       "2   Ryan Murphy, Brad Falchuk and Dante Di Loreto,...        Fox   Comedy  \n",
       "3   Linda Wallem, Liz Brixius, John Melfi, Caryn M...   Showtime   Comedy  \n",
       "4   Greg Daniels, Ben Silverman, Ricky Gervais, St...        NBC   Comedy  \n",
       "..                                                ...        ...      ...  \n",
       "85  Jason Bateman, Chris Mundy, Bill Dubuque, Mark...    Netflix    Drama  \n",
       "86  Ben Stiller, Nicholas Weinstock, Jackie Cohn, ...  Apple TV+    Drama  \n",
       "87  Kim Ji-yeon and Hwang Dong-hyuk, executive pro...    Netflix    Drama  \n",
       "88  The Duffer Brothers, Dan Cohen, Shawn Levy, Cu...    Netflix    Drama  \n",
       "89  Jonathan Lisco, Ashley Lyle and Bart Nickerson...   Showtime    Drama  \n",
       "\n",
       "[180 rows x 5 columns]"
      ]
     },
     "execution_count": 103,
     "metadata": {},
     "output_type": "execute_result"
    }
   ],
   "source": [
    "tot_df"
   ]
  },
  {
   "cell_type": "code",
   "execution_count": null,
   "id": "b1fc434c",
   "metadata": {},
   "outputs": [],
   "source": []
  }
 ],
 "metadata": {
  "kernelspec": {
   "display_name": "Python 3 (ipykernel)",
   "language": "python",
   "name": "python3"
  },
  "language_info": {
   "codemirror_mode": {
    "name": "ipython",
    "version": 3
   },
   "file_extension": ".py",
   "mimetype": "text/x-python",
   "name": "python",
   "nbconvert_exporter": "python",
   "pygments_lexer": "ipython3",
   "version": "3.10.9"
  }
 },
 "nbformat": 4,
 "nbformat_minor": 5
}
