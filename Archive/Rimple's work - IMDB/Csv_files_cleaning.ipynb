{
 "cells": [
  {
   "cell_type": "code",
   "execution_count": 47,
   "id": "b1fc47c8",
   "metadata": {},
   "outputs": [],
   "source": [
    "import pandas as pd\n",
    "import os"
   ]
  },
  {
   "cell_type": "code",
   "execution_count": 48,
   "id": "8b71ec51",
   "metadata": {},
   "outputs": [],
   "source": [
    "filepath = \"Resources/Resources_nominiees and winners/Nominated_Actor_Comedy_2010-2022.csv\""
   ]
  },
  {
   "cell_type": "code",
   "execution_count": 49,
   "id": "fdc9b955",
   "metadata": {},
   "outputs": [],
   "source": [
    "df1 = pd.read_csv(filepath)"
   ]
  },
  {
   "cell_type": "code",
   "execution_count": 50,
   "id": "4ac4e64c",
   "metadata": {},
   "outputs": [],
   "source": [
    "df = df1.dropna()"
   ]
  },
  {
   "cell_type": "code",
   "execution_count": 51,
   "id": "8b1ee431",
   "metadata": {},
   "outputs": [
    {
     "data": {
      "text/plain": [
       "Unnamed: 0              int64\n",
       "Year                   object\n",
       "Actor                  object\n",
       "Role                   object\n",
       "Program                object\n",
       "Episode Submissions    object\n",
       "Network                object\n",
       "dtype: object"
      ]
     },
     "execution_count": 51,
     "metadata": {},
     "output_type": "execute_result"
    }
   ],
   "source": [
    "df.dtypes"
   ]
  },
  {
   "cell_type": "code",
   "execution_count": 54,
   "id": "60a5a645",
   "metadata": {},
   "outputs": [
    {
     "data": {
      "text/html": [
       "<div>\n",
       "<style scoped>\n",
       "    .dataframe tbody tr th:only-of-type {\n",
       "        vertical-align: middle;\n",
       "    }\n",
       "\n",
       "    .dataframe tbody tr th {\n",
       "        vertical-align: top;\n",
       "    }\n",
       "\n",
       "    .dataframe thead th {\n",
       "        text-align: right;\n",
       "    }\n",
       "</style>\n",
       "<table border=\"1\" class=\"dataframe\">\n",
       "  <thead>\n",
       "    <tr style=\"text-align: right;\">\n",
       "      <th></th>\n",
       "      <th>Unnamed: 0</th>\n",
       "      <th>Year</th>\n",
       "      <th>Actor</th>\n",
       "      <th>Role</th>\n",
       "      <th>Program</th>\n",
       "      <th>Episode Submissions</th>\n",
       "      <th>Network</th>\n",
       "    </tr>\n",
       "  </thead>\n",
       "  <tbody>\n",
       "    <tr>\n",
       "      <th>1</th>\n",
       "      <td>1</td>\n",
       "      <td>2010 (62nd) [1]</td>\n",
       "      <td>Jim Parsons</td>\n",
       "      <td>Sheldon Cooper</td>\n",
       "      <td>The Big Bang Theory</td>\n",
       "      <td>\"The Pants Alternative\"</td>\n",
       "      <td>CBS</td>\n",
       "    </tr>\n",
       "    <tr>\n",
       "      <th>2</th>\n",
       "      <td>2</td>\n",
       "      <td>2010 (62nd) [1]</td>\n",
       "      <td>Alec Baldwin</td>\n",
       "      <td>Jack Donaghy</td>\n",
       "      <td>30 Rock</td>\n",
       "      <td>\"Don Geiss, America and Hope\"</td>\n",
       "      <td>NBC</td>\n",
       "    </tr>\n",
       "    <tr>\n",
       "      <th>3</th>\n",
       "      <td>3</td>\n",
       "      <td>2010 (62nd) [1]</td>\n",
       "      <td>Steve Carell</td>\n",
       "      <td>Michael Scott</td>\n",
       "      <td>The Office</td>\n",
       "      <td>\"The Cover-Up\"</td>\n",
       "      <td>NBC</td>\n",
       "    </tr>\n",
       "    <tr>\n",
       "      <th>4</th>\n",
       "      <td>4</td>\n",
       "      <td>2010 (62nd) [1]</td>\n",
       "      <td>Larry David</td>\n",
       "      <td>Larry David</td>\n",
       "      <td>Curb Your Enthusiasm</td>\n",
       "      <td>\"Seinfeld\"</td>\n",
       "      <td>HBO</td>\n",
       "    </tr>\n",
       "    <tr>\n",
       "      <th>5</th>\n",
       "      <td>5</td>\n",
       "      <td>2010 (62nd) [1]</td>\n",
       "      <td>Matthew Morrison</td>\n",
       "      <td>Will Schuester</td>\n",
       "      <td>Glee</td>\n",
       "      <td>\"Mash-Up\"</td>\n",
       "      <td>Fox</td>\n",
       "    </tr>\n",
       "    <tr>\n",
       "      <th>...</th>\n",
       "      <td>...</td>\n",
       "      <td>...</td>\n",
       "      <td>...</td>\n",
       "      <td>...</td>\n",
       "      <td>...</td>\n",
       "      <td>...</td>\n",
       "      <td>...</td>\n",
       "    </tr>\n",
       "    <tr>\n",
       "      <th>86</th>\n",
       "      <td>15</td>\n",
       "      <td>2022 (74th)</td>\n",
       "      <td>Donald Glover</td>\n",
       "      <td>Earn Marks</td>\n",
       "      <td>Atlanta</td>\n",
       "      <td>\"Sinterklaas is Coming to Town\"</td>\n",
       "      <td>FX</td>\n",
       "    </tr>\n",
       "    <tr>\n",
       "      <th>87</th>\n",
       "      <td>16</td>\n",
       "      <td>2022 (74th)</td>\n",
       "      <td>Bill Hader</td>\n",
       "      <td>Barry Berkman / Barry Block</td>\n",
       "      <td>Barry</td>\n",
       "      <td>\"starting now\"</td>\n",
       "      <td>HBO</td>\n",
       "    </tr>\n",
       "    <tr>\n",
       "      <th>88</th>\n",
       "      <td>17</td>\n",
       "      <td>2022 (74th)</td>\n",
       "      <td>Nicholas Hoult</td>\n",
       "      <td>Peter III / Yemelyan Pugachev</td>\n",
       "      <td>The Great</td>\n",
       "      <td>\"Wedding\"</td>\n",
       "      <td>Hulu</td>\n",
       "    </tr>\n",
       "    <tr>\n",
       "      <th>89</th>\n",
       "      <td>18</td>\n",
       "      <td>2022 (74th)</td>\n",
       "      <td>Steve Martin</td>\n",
       "      <td>Charles-Haden Savage</td>\n",
       "      <td>Only Murders in the Building</td>\n",
       "      <td>\"Open and Shut\"</td>\n",
       "      <td>Hulu</td>\n",
       "    </tr>\n",
       "    <tr>\n",
       "      <th>90</th>\n",
       "      <td>19</td>\n",
       "      <td>2022 (74th)</td>\n",
       "      <td>Martin Short</td>\n",
       "      <td>Oliver Putnam</td>\n",
       "      <td>Only Murders in the Building</td>\n",
       "      <td>\"How Well Do You Know Your Neighbors?\"</td>\n",
       "      <td>Hulu</td>\n",
       "    </tr>\n",
       "  </tbody>\n",
       "</table>\n",
       "<p>78 rows × 7 columns</p>\n",
       "</div>"
      ],
      "text/plain": [
       "    Unnamed: 0             Year             Actor  \\\n",
       "1            1  2010 (62nd) [1]       Jim Parsons   \n",
       "2            2  2010 (62nd) [1]      Alec Baldwin   \n",
       "3            3  2010 (62nd) [1]      Steve Carell   \n",
       "4            4  2010 (62nd) [1]       Larry David   \n",
       "5            5  2010 (62nd) [1]  Matthew Morrison   \n",
       "..         ...              ...               ...   \n",
       "86          15      2022 (74th)     Donald Glover   \n",
       "87          16      2022 (74th)        Bill Hader   \n",
       "88          17      2022 (74th)    Nicholas Hoult   \n",
       "89          18      2022 (74th)      Steve Martin   \n",
       "90          19      2022 (74th)      Martin Short   \n",
       "\n",
       "                             Role                       Program  \\\n",
       "1                  Sheldon Cooper           The Big Bang Theory   \n",
       "2                    Jack Donaghy                       30 Rock   \n",
       "3                   Michael Scott                    The Office   \n",
       "4                     Larry David          Curb Your Enthusiasm   \n",
       "5                  Will Schuester                          Glee   \n",
       "..                            ...                           ...   \n",
       "86                     Earn Marks                       Atlanta   \n",
       "87    Barry Berkman / Barry Block                         Barry   \n",
       "88  Peter III / Yemelyan Pugachev                     The Great   \n",
       "89           Charles-Haden Savage  Only Murders in the Building   \n",
       "90                  Oliver Putnam  Only Murders in the Building   \n",
       "\n",
       "                       Episode Submissions Network  \n",
       "1                  \"The Pants Alternative\"     CBS  \n",
       "2            \"Don Geiss, America and Hope\"     NBC  \n",
       "3                           \"The Cover-Up\"     NBC  \n",
       "4                               \"Seinfeld\"     HBO  \n",
       "5                                \"Mash-Up\"     Fox  \n",
       "..                                     ...     ...  \n",
       "86         \"Sinterklaas is Coming to Town\"      FX  \n",
       "87                          \"starting now\"     HBO  \n",
       "88                               \"Wedding\"    Hulu  \n",
       "89                         \"Open and Shut\"    Hulu  \n",
       "90  \"How Well Do You Know Your Neighbors?\"    Hulu  \n",
       "\n",
       "[78 rows x 7 columns]"
      ]
     },
     "execution_count": 54,
     "metadata": {},
     "output_type": "execute_result"
    }
   ],
   "source": [
    "df"
   ]
  },
  {
   "cell_type": "code",
   "execution_count": 59,
   "id": "a6799bd6",
   "metadata": {},
   "outputs": [
    {
     "name": "stderr",
     "output_type": "stream",
     "text": [
      "C:\\Users\\ashis\\AppData\\Local\\Temp\\ipykernel_25768\\2956100996.py:1: SettingWithCopyWarning: \n",
      "A value is trying to be set on a copy of a slice from a DataFrame.\n",
      "Try using .loc[row_indexer,col_indexer] = value instead\n",
      "\n",
      "See the caveats in the documentation: https://pandas.pydata.org/pandas-docs/stable/user_guide/indexing.html#returning-a-view-versus-a-copy\n",
      "  df[\"Year\"] = df[\"Year\"].str.split('(').str[1]\n"
     ]
    }
   ],
   "source": [
    "df[\"Year\"] = df[\"Year\"].str.split('(').str[1]"
   ]
  },
  {
   "cell_type": "code",
   "execution_count": null,
   "id": "2a039b23",
   "metadata": {},
   "outputs": [],
   "source": []
  },
  {
   "cell_type": "code",
   "execution_count": null,
   "id": "12d289e7",
   "metadata": {},
   "outputs": [],
   "source": []
  }
 ],
 "metadata": {
  "kernelspec": {
   "display_name": "Python 3 (ipykernel)",
   "language": "python",
   "name": "python3"
  },
  "language_info": {
   "codemirror_mode": {
    "name": "ipython",
    "version": 3
   },
   "file_extension": ".py",
   "mimetype": "text/x-python",
   "name": "python",
   "nbconvert_exporter": "python",
   "pygments_lexer": "ipython3",
   "version": "3.10.9"
  }
 },
 "nbformat": 4,
 "nbformat_minor": 5
}
