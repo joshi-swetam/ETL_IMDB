{
 "cells": [
  {
   "cell_type": "code",
   "execution_count": 2,
   "metadata": {},
   "outputs": [],
   "source": [
    "import pandas as pd"
   ]
  },
  {
   "cell_type": "code",
   "execution_count": 3,
   "metadata": {},
   "outputs": [],
   "source": [
    "imdb_top_250_df = pd.read_csv('Resources/IMDB_cleaned_Top_250.csv')\n",
    "lead_actor_actress_df = pd.read_csv('Resources/Lead_actor_actress_nominees.csv')\n",
    "supporting_actor_actress_nominees_df = pd.read_csv('Resources/Supporting_actor_actress_nominees.csv')\n",
    "series_nominees_df = pd.read_csv('Resources/Series_nominees.csv')\n",
    "\n",
    "categories = []\n",
    "# get genres from imdb df\n",
    "for index, row in imdb_top_250_df.iterrows():\n",
    "    categories.extend(row['Genre'].strip().split(', '))\n",
    "\n",
    "\n",
    "categories = pd.concat([pd.Series(categories)\n",
    "                    , pd.Series(lead_actor_actress_df.Category)\n",
    "                    , pd.Series(supporting_actor_actress_nominees_df.Category)\n",
    "                    , pd.Series(series_nominees_df.Category)]\n",
    "                    , axis=0, ignore_index=True)\n",
    "\n",
    "categories = categories.unique()"
   ]
  },
  {
   "cell_type": "code",
   "execution_count": 4,
   "metadata": {},
   "outputs": [],
   "source": [
    "category_df = pd.DataFrame({'Category':categories}) \n",
    "\n",
    "category_df.to_csv('output/categories.csv', index_label='category_id')"
   ]
  }
 ],
 "metadata": {
  "kernelspec": {
   "display_name": "PythonData",
   "language": "python",
   "name": "python3"
  },
  "language_info": {
   "codemirror_mode": {
    "name": "ipython",
    "version": 3
   },
   "file_extension": ".py",
   "mimetype": "text/x-python",
   "name": "python",
   "nbconvert_exporter": "python",
   "pygments_lexer": "ipython3",
   "version": "3.10.9"
  },
  "orig_nbformat": 4
 },
 "nbformat": 4,
 "nbformat_minor": 2
}
