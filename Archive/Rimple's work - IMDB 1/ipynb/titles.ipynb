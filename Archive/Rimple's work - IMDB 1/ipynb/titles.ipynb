{
 "cells": [
  {
   "cell_type": "code",
   "execution_count": 1,
   "metadata": {},
   "outputs": [],
   "source": [
    "import pandas as pd"
   ]
  },
  {
   "cell_type": "code",
   "execution_count": 2,
   "metadata": {},
   "outputs": [],
   "source": [
    "imdb_top_250_df = pd.read_csv('Resources/IMDB_cleaned_Top_250.csv')\n",
    "lead_actor_actress_df = pd.read_csv('Resources/Lead_actor_actress_nominees.csv')\n",
    "supporting_actor_actress_nominees_df = pd.read_csv('Resources/Supporting_actor_actress_nominees.csv')\n",
    "series_nominees_df = pd.read_csv('Resources/Series_nominees.csv')\n",
    "winners_df = pd.read_csv('Resources/Winners_cleaned_2010-2022.csv')\n",
    "\n",
    "titles = pd.Series(imdb_top_250_df['Title'])\n",
    "titles = pd.concat([titles\n",
    "                    , pd.Series(lead_actor_actress_df['Titles'])\n",
    "                    , pd.Series(supporting_actor_actress_nominees_df['Titles'])\n",
    "                    , pd.Series(series_nominees_df['Titles'])\n",
    "                    , pd.Series(winners_df['Comedy'])\n",
    "                    , pd.Series(winners_df['Drama'])\n",
    "                    , pd.Series(winners_df['Lead Comedy Actor(Title)'])\n",
    "                    , pd.Series(winners_df['Lead Drama Actor(Title)'])\n",
    "                    , pd.Series(winners_df['Lead Comedy Actress(Title)'])\n",
    "                    , pd.Series(winners_df['Lead Drama Actress(Title)'])]\n",
    "                    , axis=0, ignore_index=True)\n",
    "                    \n",
    "\n",
    "titles = titles.unique()"
   ]
  },
  {
   "cell_type": "code",
   "execution_count": 3,
   "metadata": {},
   "outputs": [],
   "source": [
    "titles_df = pd.DataFrame({'Title':titles}) \n",
    "\n",
    "titles_df = titles_df.merge(imdb_top_250_df, on='Title', how='left')\n",
    "titles_df = titles_df[['Title', 'Rank', 'Years of running', 'Certificate', 'Rating', 'Votes', 'Synopsis']]\n",
    "\n",
    "titles_df.to_csv('output/titles.csv', index_label='title_id')"
   ]
  }
 ],
 "metadata": {
  "kernelspec": {
   "display_name": "PythonData",
   "language": "python",
   "name": "python3"
  },
  "language_info": {
   "codemirror_mode": {
    "name": "ipython",
    "version": 3
   },
   "file_extension": ".py",
   "mimetype": "text/x-python",
   "name": "python",
   "nbconvert_exporter": "python",
   "pygments_lexer": "ipython3",
   "version": "3.10.9"
  },
  "orig_nbformat": 4
 },
 "nbformat": 4,
 "nbformat_minor": 2
}
