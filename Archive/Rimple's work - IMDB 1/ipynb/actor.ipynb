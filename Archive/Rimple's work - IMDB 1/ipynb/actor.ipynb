{
 "cells": [
  {
   "cell_type": "code",
   "execution_count": 2,
   "metadata": {},
   "outputs": [],
   "source": [
    "import pandas as pd"
   ]
  },
  {
   "cell_type": "code",
   "execution_count": 3,
   "metadata": {},
   "outputs": [
    {
     "data": {
      "text/plain": [
       "array(['Bryan Cranston', 'Aaron Paul', 'Anna Gunn', ..., 'Julia Louis',\n",
       "       'Phoebe Waller', 'Zendaya '], dtype=object)"
      ]
     },
     "execution_count": 3,
     "metadata": {},
     "output_type": "execute_result"
    }
   ],
   "source": [
    "imdb_top_250_df = pd.read_csv('Resources/IMDB_cleaned_Top_250.csv')\n",
    "lead_actor_actress_df = pd.read_csv('Resources/Lead_actor_actress_nominees.csv')\n",
    "supporting_actor_actress_nominees_df = pd.read_csv('Resources/Supporting_actor_actress_nominees.csv')\n",
    "series_nominees_df = pd.read_csv('Resources/Series_nominees.csv')\n",
    "winners_df = pd.read_csv('Resources/Winners_cleaned_2010-2022.csv')\n",
    "\n",
    "actors = []\n",
    "# get genres from imdb df\n",
    "for index, row in imdb_top_250_df.iterrows():\n",
    "    actors.extend(row['Actors'].strip().strip(\"\").replace('[','').replace(']','').replace('\\'', '').split(', '))\n",
    "\n",
    "actors = pd.concat([pd.Series(actors)\n",
    "                    , pd.Series(lead_actor_actress_df['Actor/Actress'])\n",
    "                    , pd.Series(supporting_actor_actress_nominees_df['Actor/Actress'])\n",
    "                    , pd.Series(winners_df['Lead Comedy Actor'])\n",
    "                    , pd.Series(winners_df['Lead Drama Actor'])\n",
    "                    , pd.Series(winners_df['Lead Comedy Actress'])\n",
    "                    , pd.Series(winners_df['Lead Drama Actress'])]\n",
    "                    , axis=0, ignore_index=True)\n",
    "                \n",
    "\n",
    "actors = actors.unique()\n",
    "actors"
   ]
  },
  {
   "cell_type": "code",
   "execution_count": 4,
   "metadata": {},
   "outputs": [],
   "source": [
    "actors_df = pd.DataFrame({'Actor':actors}) \n",
    "\n",
    "actors_df.to_csv('output/actors.csv', index_label='actor_id')"
   ]
  }
 ],
 "metadata": {
  "kernelspec": {
   "display_name": "PythonData",
   "language": "python",
   "name": "python3"
  },
  "language_info": {
   "codemirror_mode": {
    "name": "ipython",
    "version": 3
   },
   "file_extension": ".py",
   "mimetype": "text/x-python",
   "name": "python",
   "nbconvert_exporter": "python",
   "pygments_lexer": "ipython3",
   "version": "3.10.9"
  },
  "orig_nbformat": 4
 },
 "nbformat": 4,
 "nbformat_minor": 2
}
